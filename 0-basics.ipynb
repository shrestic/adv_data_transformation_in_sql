{
 "cells": [
  {
   "cell_type": "markdown",
   "id": "a46fa0f8-ad60-4694-b4ac-644ed7c70fef",
   "metadata": {},
   "source": [
    "Connect to DuckDB"
   ]
  },
  {
   "cell_type": "code",
   "execution_count": null,
   "id": "42a48729-c3b2-4b6d-85c8-4af44d10664d",
   "metadata": {},
   "outputs": [],
   "source": [
    "# Load the extension\n",
    "%load_ext sql"
   ]
  },
  {
   "cell_type": "code",
   "execution_count": null,
   "id": "70bbba8e-36bb-4571-a5ec-f3d983970037",
   "metadata": {},
   "outputs": [],
   "source": [
    "# Connect to DuckDB\n",
    "%sql duckdb:///tpch.db"
   ]
  },
  {
   "cell_type": "code",
   "execution_count": null,
   "id": "c815b27b-4446-4d32-8cf7-896271f3ee1d",
   "metadata": {},
   "outputs": [],
   "source": [
    "%config SqlMagic.displaylimit = 100"
   ]
  },
  {
   "cell_type": "code",
   "execution_count": null,
   "id": "0ae12d5d-707c-47de-a314-b14f78f41f28",
   "metadata": {},
   "outputs": [],
   "source": [
    "%%sql\n",
    "-- Run a simple show tables\n",
    "SELECT\n",
    "  table_name\n",
    "FROM\n",
    "  information_schema.tables\n",
    "WHERE\n",
    "  table_schema = 'main'"
   ]
  },
  {
   "cell_type": "code",
   "execution_count": null,
   "id": "edd7f9bf-2681-40d5-b354-acab239e50d3",
   "metadata": {},
   "outputs": [],
   "source": [
    "# If you do not see any tables run the below command (after uncommeting it)\n",
    "#! python setup.py"
   ]
  },
  {
   "cell_type": "markdown",
   "id": "3a1598bf-af86-42e7-85d4-f4743d5d363b",
   "metadata": {},
   "source": [
    "# [GET DATA] Use SELECT...FROM, LIMIT, WHERE, & ORDER BY to read the required data from tables\n",
    "\n",
    "The most common use for querying is to read data in our tables. We can do this using a `SELECT ... FROM` statement, as shown below.\n",
    "\n"
   ]
  },
  {
   "cell_type": "code",
   "execution_count": null,
   "id": "4e6ad402-17e5-45b9-9106-6435d6cbd05b",
   "metadata": {},
   "outputs": [],
   "source": [
    "%%sql\n",
    "SELECT\n",
    "  *\n",
    "FROM\n",
    "  customer\n",
    "LIMIT\n",
    "  1;"
   ]
  },
  {
   "cell_type": "code",
   "execution_count": null,
   "id": "7e980eb1-41cc-4368-b811-3af7aed7a727",
   "metadata": {},
   "outputs": [],
   "source": [
    "%%sql\n",
    "-- use * to specify all columns\n",
    "SELECT\n",
    "  *\n",
    "FROM\n",
    "  orders\n",
    "LIMIT\n",
    "  5;"
   ]
  },
  {
   "cell_type": "markdown",
   "id": "50a8af76-55a5-4baf-a49e-ec3b1f917a1f",
   "metadata": {},
   "source": [
    "However, running a `SELECT ... FROM` statement can cause issues when the data set is extensive.\n"
   ]
  },
  {
   "cell_type": "code",
   "execution_count": null,
   "id": "53d9be26-e189-40ee-a549-a8c2f384b540",
   "metadata": {},
   "outputs": [],
   "source": [
    "%%sql\n",
    "-- use * to specify all columns\n",
    "SELECT\n",
    "  *\n",
    "FROM\n",
    "  orders\n",
    "LIMIT\n",
    "  5;"
   ]
  },
  {
   "cell_type": "code",
   "execution_count": null,
   "id": "a40bc3d4-8fdb-4d09-9150-351e577e1930",
   "metadata": {},
   "outputs": [],
   "source": [
    "%%sql\n",
    "-- use column c_names only to read data from those columns\n",
    "SELECT\n",
    "  o_orderkey,\n",
    "  o_totalprice\n",
    "FROM\n",
    "  orders\n",
    "LIMIT\n",
    "  5;"
   ]
  },
  {
   "cell_type": "markdown",
   "id": "da594efa-76f8-4ff6-97d0-ea6da68599ab",
   "metadata": {},
   "source": [
    "\n",
    "We can use the `WHERE` clause if we want to get the rows that match specific criteria. We can specify one or more filters within the `WHERE` clause. \n",
    "\n",
    "The `WHERE` clause with more than one filter can use combinations of `AND` and `OR` criteria to combine the filter criteria, as shown below.\n",
    "\n"
   ]
  },
  {
   "cell_type": "code",
   "execution_count": null,
   "id": "304534fb-a7da-4b33-bad5-3d4fbd461ce6",
   "metadata": {},
   "outputs": [],
   "source": [
    "%%sql\n",
    "-- all customer rows that have c_nationkey = 20\n",
    "SELECT\n",
    "  *\n",
    "FROM\n",
    "  customer\n",
    "WHERE\n",
    "  c_nationkey = 20\n",
    "LIMIT\n",
    "  10;"
   ]
  },
  {
   "cell_type": "code",
   "execution_count": null,
   "id": "9942262e-85d8-463c-b3b7-4bfc4fdca5f6",
   "metadata": {},
   "outputs": [],
   "source": [
    "%%sql\n",
    "-- all customer rows that have c_nationkey = 20 and c_acctbal > 1000\n",
    "SELECT\n",
    "  *\n",
    "FROM\n",
    "  customer\n",
    "WHERE\n",
    "  c_nationkey = 20\n",
    "  AND c_acctbal > 1000\n",
    "LIMIT\n",
    "  10;"
   ]
  },
  {
   "cell_type": "code",
   "execution_count": null,
   "id": "fc3d8245-0b7d-471f-a26b-5c05c1f1a82d",
   "metadata": {},
   "outputs": [],
   "source": [
    "%%sql\n",
    "-- all customer rows that have c_nationkey = 20 or c_acctbal > 1000\n",
    "SELECT\n",
    "  *\n",
    "FROM\n",
    "  customer\n",
    "WHERE\n",
    "  c_nationkey = 20\n",
    "  OR c_acctbal > 1000\n",
    "LIMIT\n",
    "  10;"
   ]
  },
  {
   "cell_type": "code",
   "execution_count": null,
   "id": "fcda47a6-41d2-4b77-8496-5d11790a07d8",
   "metadata": {},
   "outputs": [],
   "source": [
    "%%sql\n",
    "-- all customer rows that have (c_nationkey = 20 and c_acctbal > 1000) or rows that have c_nationkey = 11\n",
    "SELECT\n",
    "  *\n",
    "FROM\n",
    "  customer\n",
    "WHERE\n",
    "  (\n",
    "    c_nationkey = 20\n",
    "    AND c_acctbal > 1000\n",
    "  )\n",
    "  OR c_nationkey = 11\n",
    "LIMIT\n",
    "  10;"
   ]
  },
  {
   "cell_type": "markdown",
   "id": "32f336b1-2eea-45df-b32d-ce4d4c5dd1be",
   "metadata": {},
   "source": [
    "\n",
    "We can combine multiple filter clauses, as seen above. We have seen examples of equals (`=`) and greater than (`>`) conditional operators. There are 6 **conditional operators**, they are\n",
    "\n",
    "1. **<** Less than\n",
    "2. **>** Greater than\n",
    "3. **<=** Less than or equal to\n",
    "4. **>=** Greater than or equal to\n",
    "5. **=** Equal\n",
    "6. **<>** and **!=** both represent Not equal (some DBs only support one of these)\n",
    "\n",
    "Additionally, for string types, we can make **pattern matching with `like` condition**. In a `like` condition, a `_` means any single character, and `%` means zero or more characters, for example.\n",
    "\n",
    "\n"
   ]
  },
  {
   "cell_type": "code",
   "execution_count": null,
   "id": "85f41aa4-ce97-45e1-93e4-875b58f618d7",
   "metadata": {},
   "outputs": [],
   "source": [
    "%%sql\n",
    "-- all customer rows where the c_name has a 381 in it\n",
    "SELECT\n",
    "  *\n",
    "FROM\n",
    "  customer\n",
    "WHERE\n",
    "  c_name LIKE '%381%';"
   ]
  },
  {
   "cell_type": "code",
   "execution_count": null,
   "id": "cb8f3493-c1d6-4033-b324-3ba1526df26c",
   "metadata": {},
   "outputs": [],
   "source": [
    "%%sql\n",
    "-- all customer rows where the c_name ends with a 381\n",
    "SELECT\n",
    "  *\n",
    "FROM\n",
    "  customer\n",
    "WHERE\n",
    "  c_name LIKE '%381';"
   ]
  },
  {
   "cell_type": "code",
   "execution_count": null,
   "id": "65c00828-86cd-49b0-a6b9-59fbefa6e077",
   "metadata": {},
   "outputs": [],
   "source": [
    "%%sql\n",
    "-- all customer rows where the c_name starts with a 381\n",
    "SELECT\n",
    "  *\n",
    "FROM\n",
    "  customer\n",
    "WHERE\n",
    "  c_name LIKE '381%';"
   ]
  },
  {
   "cell_type": "code",
   "execution_count": null,
   "id": "cf355688-eefb-41b3-ae4d-d07ca155ada3",
   "metadata": {},
   "outputs": [],
   "source": [
    "%%sql\n",
    "-- all customer rows where the c_name has a combination of any character and 9 and 1\n",
    "SELECT\n",
    "  *\n",
    "FROM\n",
    "  customer\n",
    "WHERE\n",
    "  c_name LIKE '%_91%';"
   ]
  },
  {
   "cell_type": "markdown",
   "id": "8fd08197-447b-47ee-bf79-51c28894b753",
   "metadata": {},
   "source": [
    "We can also filter for more than one value using `IN` and `NOT IN`.\n"
   ]
  },
  {
   "cell_type": "code",
   "execution_count": null,
   "id": "812f1107-6a2f-4f3b-aa5e-02a08d03a5f3",
   "metadata": {},
   "outputs": [],
   "source": [
    "%%sql\n",
    "-- all customer rows which have c_nationkey = 10 or c_nationkey = 20\n",
    "SELECT\n",
    "  *\n",
    "FROM\n",
    "  customer\n",
    "WHERE\n",
    "  c_nationkey IN (10, 20);"
   ]
  },
  {
   "cell_type": "code",
   "execution_count": null,
   "id": "170f61e1-320f-4099-93a9-c6c508767fae",
   "metadata": {},
   "outputs": [],
   "source": [
    "%%sql\n",
    "-- all customer rows which have do not have c_nationkey as 10 or 20\n",
    "SELECT\n",
    "  *\n",
    "FROM\n",
    "  customer\n",
    "WHERE\n",
    "  c_nationkey NOT IN (10, 20);"
   ]
  },
  {
   "cell_type": "markdown",
   "id": "8913ab59-fe0a-4360-9353-fca449a73369",
   "metadata": {},
   "source": [
    "We can get the number of rows in a table using `count(*)` as shown below.\n"
   ]
  },
  {
   "cell_type": "code",
   "execution_count": null,
   "id": "4aefc010-21eb-4c5b-9ae1-61afae657362",
   "metadata": {},
   "outputs": [],
   "source": [
    "%%sql\n",
    "SELECT\n",
    "  COUNT(*)\n",
    "FROM\n",
    "  customer;"
   ]
  },
  {
   "cell_type": "code",
   "execution_count": null,
   "id": "1e678e89-0ea3-43f6-9448-235b90d01d49",
   "metadata": {},
   "outputs": [],
   "source": [
    "%%sql\n",
    "SELECT\n",
    "  COUNT(*)\n",
    "FROM\n",
    "  lineitem;"
   ]
  },
  {
   "cell_type": "markdown",
   "id": "13f9b200-540a-4607-a3c7-af05ce75291d",
   "metadata": {},
   "source": [
    "If we want to get the rows sorted by values in a specific column, we use `ORDER BY`, for example.\n"
   ]
  },
  {
   "cell_type": "code",
   "execution_count": null,
   "id": "818e7c24-cf30-4d01-bd52-1114afd412ab",
   "metadata": {},
   "outputs": [],
   "source": [
    "%%sql\n",
    "-- Will show the first ten customer records with the lowest custkey\n",
    "-- rows are ordered in ASC order by default\n",
    "SELECT\n",
    "  *\n",
    "FROM\n",
    "  orders\n",
    "ORDER BY\n",
    "  o_custkey\n",
    "LIMIT\n",
    "  10;"
   ]
  },
  {
   "cell_type": "code",
   "execution_count": null,
   "id": "c0b3e1af-cbfc-4e39-af41-a9c64b4ba34b",
   "metadata": {},
   "outputs": [],
   "source": [
    "%%sql\n",
    "-- Will show the first ten customer's records with the highest custkey\n",
    "SELECT\n",
    "  *\n",
    "FROM\n",
    "  orders\n",
    "ORDER BY\n",
    "  o_custkey DESC\n",
    "LIMIT\n",
    "  10;"
   ]
  },
  {
   "cell_type": "markdown",
   "id": "9c474c23-f90c-4252-8857-db0e5da18cbb",
   "metadata": {},
   "source": [
    "\n",
    "# [JOINS] Combine data from multiple tables using JOINs (there are different types of JOINs)\n",
    "\n",
    "We can combine data from multiple tables using joins. When we write a join query, we have a format as shown below.\n",
    "\n",
    "```sql\n",
    "-- not based on real tables\n",
    "SELECT\n",
    "    a.*\n",
    "FROM\n",
    "    table_a a -- LEFT table a\n",
    "    JOIN table_b b -- RIGHT table b\n",
    "    ON a.id = b.id\n",
    "```\n",
    "\n",
    "The table specified first (table_a) is the left table, whereas the table established second is the right table. When we have multiple tables joined, we consider the joined dataset from the first two tables as the left table and the third table as the right table (The DB optimizes the joins for performance).\n",
    "\n",
    "```sql\n",
    "-- not based on real tables\n",
    "SELECT\n",
    "    a.*\n",
    "FROM\n",
    "    table_a a -- LEFT table a\n",
    "    JOIN table_b b -- RIGHT table b\n",
    "    ON a.id = b.id\n",
    "    JOIN table_c c -- LEFT table is the joined data from \n",
    "-- table_a & table_b, right table is table_c\n",
    "    ON a.c_id = c.id\n",
    "```\n",
    "\n",
    "There are five main types of joins, they are:\n",
    "\n",
    "## 1. Inner join (default): Get only rows in both tables\n",
    "\n"
   ]
  },
  {
   "cell_type": "code",
   "execution_count": null,
   "id": "8fce6778-5e4a-479b-8687-2e3191bbefe1",
   "metadata": {},
   "outputs": [],
   "source": [
    "%%sql\n",
    "SELECT\n",
    "  o.o_orderkey,\n",
    "  l.l_orderkey\n",
    "FROM\n",
    "  orders o\n",
    "  JOIN lineitem l ON o.o_orderkey = l.l_orderkey\n",
    "  AND o.o_orderdate BETWEEN l.l_shipdate - INTERVAL '5' DAY AND l.l_shipdate  + INTERVAL '5' DAY\n",
    "LIMIT\n",
    "  100;"
   ]
  },
  {
   "cell_type": "code",
   "execution_count": null,
   "id": "34446ba5-4377-4a7b-9068-5eb37df914f9",
   "metadata": {},
   "outputs": [],
   "source": [
    "%%sql\n",
    "SELECT\n",
    "  COUNT(o.o_orderkey) AS order_rows_count,\n",
    "  COUNT(l.l_orderkey) AS lineitem_rows_count\n",
    "FROM\n",
    "  orders o\n",
    "  JOIN lineitem l ON o.o_orderkey = l.l_orderkey\n",
    "  AND o.o_orderdate BETWEEN l.l_shipdate - INTERVAL '5' DAY AND l.l_shipdate  + INTERVAL '5' DAY;"
   ]
  },
  {
   "cell_type": "markdown",
   "id": "89ef6bb4-4d40-4d3f-9228-356876dbd1fb",
   "metadata": {},
   "source": [
    "**Note:** JOIN defaults to INNER JOIN.\n",
    "\n",
    "The output will have rows from orders and lineitem that found at least one matching row from the other table with the specified join condition (same o_orderkey and orderdate within ship date +/- 5 days). \n",
    "\n",
    "We can also see that 247650 rows from orders and lineitem tables matched.\n",
    "\n",
    "## 2. Left outer join (aka left join): Get all rows from the left table and only matching rows from the right table.\n",
    "\n"
   ]
  },
  {
   "cell_type": "code",
   "execution_count": null,
   "id": "2b7e0fd8-e596-4f60-b34a-57a37779775e",
   "metadata": {},
   "outputs": [],
   "source": [
    "%%sql\n",
    "SELECT\n",
    "  o.o_orderkey,\n",
    "  l.l_orderkey\n",
    "FROM\n",
    "  orders o\n",
    "  LEFT JOIN lineitem l ON o.o_orderkey = l.l_orderkey\n",
    "  AND o.o_orderdate BETWEEN l.l_shipdate - INTERVAL '5' DAY AND l.l_shipdate  + INTERVAL '5' DAY\n",
    "LIMIT\n",
    "  100;"
   ]
  },
  {
   "cell_type": "code",
   "execution_count": null,
   "id": "8992f882-9e69-45c8-a1f6-3de5c1c0f929",
   "metadata": {},
   "outputs": [],
   "source": [
    "%%sql\n",
    "SELECT\n",
    "  COUNT(o.o_orderkey) AS order_rows_count,\n",
    "  COUNT(l.l_orderkey) AS lineitem_rows_count\n",
    "FROM\n",
    "  orders o\n",
    "  LEFT JOIN lineitem l ON o.o_orderkey = l.l_orderkey\n",
    "  AND o.o_orderdate BETWEEN l.l_shipdate - INTERVAL '5' DAY AND l.l_shipdate  + INTERVAL '5' DAY;"
   ]
  },
  {
   "cell_type": "markdown",
   "id": "a43b8ac2-e866-4073-add9-6d8841ab63ee",
   "metadata": {},
   "source": [
    "The output will have all the rows from orders and the rows from lineitem that were able to find at least one matching row from the orders table with the specified join condition (same o_orderkey and orderdate within ship date +/- 5 days). \n",
    "\n",
    "We can also see that the number of rows from the orders table is 1,519,332 & from the lineitem table is 247,650. The number of rows in orders is 1,500,000, but the join condition produces 1,519,332 since some orders match with multiple lineitems.\n",
    "\n",
    "## 3. Right outer join (aka right join): Get matching rows from the left and all rows from the right table.\n",
    "\n"
   ]
  },
  {
   "cell_type": "code",
   "execution_count": null,
   "id": "1fe978c2-d62e-42b1-a842-2d9a930e9669",
   "metadata": {},
   "outputs": [],
   "source": [
    "%%sql\n",
    "SELECT\n",
    "  o.o_orderkey,\n",
    "  l.l_orderkey\n",
    "FROM\n",
    "  orders o\n",
    "  RIGHT JOIN lineitem l ON o.o_orderkey = l.l_orderkey\n",
    "  AND o.o_orderdate BETWEEN l.l_shipdate - INTERVAL '5' DAY AND l.l_shipdate  + INTERVAL '5' DAY\n",
    "LIMIT\n",
    "  100;"
   ]
  },
  {
   "cell_type": "code",
   "execution_count": null,
   "id": "a857dd65-66d3-4005-ac55-5610ecf7115a",
   "metadata": {},
   "outputs": [],
   "source": [
    "%%sql\n",
    "SELECT\n",
    "  COUNT(o.o_orderkey) AS order_rows_count,\n",
    "  COUNT(l.l_orderkey) AS lineitem_rows_count\n",
    "FROM\n",
    "  orders o\n",
    "  JOIN lineitem l ON o.o_orderkey = l.l_orderkey\n",
    "  AND o.o_orderdate BETWEEN l.l_shipdate - INTERVAL '5' DAY AND l.l_shipdate  + INTERVAL '5' DAY;"
   ]
  },
  {
   "cell_type": "markdown",
   "id": "f8b9fd2f-14da-4a7d-891a-c49b5943a485",
   "metadata": {},
   "source": [
    "The output will have the rows from orders that found at least one matching row from the lineitem table with the specified join condition (same o_orderkey and orderdate within ship date +/- 5 days) and all the rows from the lineitem table.\n",
    "\n",
    "We can also see that the number of rows from the orders table is 247,650 & from the lineitem table is 6,001,215 .\n",
    "\n",
    "## 4. Full outer join: Get all rows from both the left and right tables.\n",
    "\n"
   ]
  },
  {
   "cell_type": "code",
   "execution_count": null,
   "id": "b6f55634-9df8-4959-9a96-2d58c86254ae",
   "metadata": {},
   "outputs": [],
   "source": [
    "%%sql\n",
    "SELECT\n",
    "  o.o_orderkey,\n",
    "  l.l_orderkey\n",
    "FROM\n",
    "  orders o\n",
    "  FULL OUTER JOIN lineitem l ON o.o_orderkey = l.l_orderkey\n",
    "  AND o.o_orderdate BETWEEN l.l_shipdate - INTERVAL '5' DAY AND l.l_shipdate  + INTERVAL '5' DAY\n",
    "LIMIT\n",
    "  100;"
   ]
  },
  {
   "cell_type": "code",
   "execution_count": null,
   "id": "183ecc7d-03ca-4af2-9b6b-014590c9c5f6",
   "metadata": {},
   "outputs": [],
   "source": [
    "%%sql\n",
    "SELECT\n",
    "  COUNT(o.o_orderkey) AS order_rows_count,\n",
    "  COUNT(l.l_orderkey) AS lineitem_rows_count\n",
    "FROM\n",
    "  orders o\n",
    "  FULL OUTER JOIN lineitem l ON o.o_orderkey = l.l_orderkey\n",
    "  AND o.o_orderdate BETWEEN l.l_shipdate - INTERVAL '5' DAY AND l.l_shipdate  + INTERVAL '5' DAY;"
   ]
  },
  {
   "cell_type": "markdown",
   "id": "075ffe7e-9eec-45e2-9e2d-0f51a64dfdf6",
   "metadata": {},
   "source": [
    "The output will have all the rows from orders that found at least one matching row from the lineitem table with the specified join condition (same o_orderkey and orderdate within ship date +/- 5 days) and all the rows from the lineitem table.\n",
    "\n",
    "We can also see that the number of rows from the orders table is 1,519,332 & from the lineitem table is 6,001,215.\n",
    "\n",
    "## 5. Cross join: Get the cartesian product of all rows\n",
    "\n"
   ]
  },
  {
   "cell_type": "code",
   "execution_count": null,
   "id": "180d5745-8efb-412b-9e48-709d8c78cd9c",
   "metadata": {},
   "outputs": [],
   "source": [
    "%%sql\n",
    "SELECT\n",
    "  n.n_name AS nation_c_name,\n",
    "  r.r_name AS region_c_name\n",
    "FROM\n",
    "  nation n\n",
    "  CROSS JOIN region r;"
   ]
  },
  {
   "cell_type": "markdown",
   "id": "084777a5-d2b0-4723-b6bd-c216d5e6f5b4",
   "metadata": {},
   "source": [
    "\n",
    "The output will have every row of the nation joined with every row of the region. There are 25 nations and five regions, leading to 125 rows in our result from the cross-join.\n",
    "\n",
    "![Joins](./images/im_27_1.png)\n",
    "![Cross join](./images/im_27_2.png)\n",
    "\n",
    "There are cases where we will need to join a table with itself, called a SELF-join.\n",
    "\n",
    "**Example**:\n",
    "\n",
    "1. For every customer order, get the order placed earlier in the same week (Sunday - Saturday, not the previous seven days). Only show customer orders that have at least one such order.\n",
    "\n"
   ]
  },
  {
   "cell_type": "code",
   "execution_count": null,
   "id": "93b3b91b-d420-40f3-9151-8fcb26aaa629",
   "metadata": {},
   "outputs": [],
   "source": [
    "%%sql\n",
    "SELECT\n",
    "  o1.o_custkey\n",
    "FROM\n",
    "  orders o1\n",
    "  JOIN orders o2 ON o1.o_custkey = o2.o_custkey\n",
    "  AND YEAR (o1.o_orderdate) = YEAR (o2.o_orderdate)\n",
    "  AND week (o1.o_orderdate) = week (o2.o_orderdate)\n",
    "WHERE\n",
    "  o1.o_orderkey != o2.o_orderkey;"
   ]
  },
  {
   "cell_type": "markdown",
   "id": "86731bb7-8a51-4f02-89e7-4a9f60f4f8a1",
   "metadata": {},
   "source": [
    "\n",
    "Most analytical queries require calculating metrics that involve combining data from multiple rows. `GROUP BY` allows us to perform aggregate calculations on data from a set of rows grouped together based on values of specified column(s).\n",
    "\n",
    "**Example**:\n",
    "\n",
    "1. Create a report that shows the number of orders per orderpriority segment.\n",
    "\n"
   ]
  },
  {
   "cell_type": "code",
   "execution_count": null,
   "id": "4f420f8a-ab7b-4b74-bca5-af83e4eaf1b7",
   "metadata": {},
   "outputs": [],
   "source": [
    "%%sql\n",
    "SELECT\n",
    "  o_orderpriority,\n",
    "  COUNT(*) AS num_orders\n",
    "FROM\n",
    "  orders\n",
    "GROUP BY\n",
    "  o_orderpriority;"
   ]
  },
  {
   "cell_type": "markdown",
   "id": "1459feb1-726f-4e64-a290-0bbd742e31d3",
   "metadata": {},
   "source": [
    "\n",
    "In the above query, we group the data by `orderpriority`, and the calculation `count(*)` will be applied to the rows having a specific `orderpriority` value. The output will consist of one row per unique value of `orderpriority` and the `count(*)` calculation.\n",
    "\n",
    "![Group by](./images/im_28.png)\n",
    "\n",
    "The calculations allowed are typically SUM/MIN/MAX/AVG/COUNT. However, some databases have more complex aggregate functions; check your DB documentation.\n",
    "\n",
    "# [SUB QUERY] Use the result of a query within a query using sub-queries\n",
    "\n",
    "When we want to use the result of a query as a table in another query, we use subqueries. **Example**:\n",
    "\n",
    "1. Create a report that shows the nation, how many items it supplied (by suppliers in that nation), and how many items it purchased (by customers in that nation). \n",
    "\n"
   ]
  },
  {
   "cell_type": "code",
   "execution_count": null,
   "id": "2165257f-d217-4a8b-a9dd-10150c1a7689",
   "metadata": {},
   "outputs": [],
   "source": [
    "%%sql\n",
    "SELECT\n",
    "  n.n_name AS nation_c_name,\n",
    "  s.quantity AS supplied_items_quantity,\n",
    "  c.quantity AS purchased_items_quantity\n",
    "FROM\n",
    "  nation n\n",
    "  LEFT JOIN (\n",
    "    SELECT\n",
    "      n.n_nationkey,\n",
    "      SUM(l.l_quantity) AS quantity\n",
    "    FROM\n",
    "      lineitem l\n",
    "      JOIN supplier s ON l.l_suppkey = s.s_suppkey\n",
    "      JOIN nation n ON s.s_nationkey = n.n_nationkey\n",
    "    GROUP BY\n",
    "      n.n_nationkey\n",
    "  ) s ON n.n_nationkey = s.n_nationkey\n",
    "  LEFT JOIN (\n",
    "    SELECT\n",
    "      n.n_nationkey,\n",
    "      SUM(l.l_quantity) AS quantity\n",
    "    FROM\n",
    "      lineitem l\n",
    "      JOIN orders o ON l.l_orderkey = o.o_orderkey\n",
    "      JOIN customer c ON o.o_custkey = c.c_custkey\n",
    "      JOIN nation n ON c.c_nationkey = n.n_nationkey\n",
    "    GROUP BY\n",
    "      n.n_nationkey\n",
    "  ) c ON n.n_nationkey = c.n_nationkey;"
   ]
  },
  {
   "cell_type": "markdown",
   "id": "a0d215c5-85c9-4cde-b863-a5d70af17348",
   "metadata": {},
   "source": [
    "\n",
    "In the above query, we can see that there are two sub-queries, one to calculate the quantity supplied by a nation and the other to calculate the quantity purchased by the customers of a nation.\n",
    "\n",
    "# [CASE WHEN] Replicate IF.ELSE logic with CASE statements\n",
    "\n",
    "We can do conditional logic in the `SELECT ... FROM` part of our query, as shown below.\n",
    "\n"
   ]
  },
  {
   "cell_type": "code",
   "execution_count": null,
   "id": "fa27517a-5e06-40c2-80a5-405f628c6d5f",
   "metadata": {},
   "outputs": [],
   "source": [
    "%%sql\n",
    "SELECT\n",
    "    o_orderkey,\n",
    "    o_totalprice,\n",
    "    CASE\n",
    "        WHEN o_totalprice > 100000 THEN 'high'\n",
    "        WHEN o_totalprice BETWEEN 25000\n",
    "        AND 100000 THEN 'medium'\n",
    "        ELSE 'low'\n",
    "    END AS order_price_bucket\n",
    "FROM\n",
    "    orders;"
   ]
  },
  {
   "cell_type": "markdown",
   "id": "41e1511b-82cd-49e7-b10b-f5c43fa6b843",
   "metadata": {},
   "source": [
    "We can see how we display different values depending on the `totalprice` column. We can also use multiple criteria as our conditional criteria (e.g., totalprice > 100000 AND orderpriority = '2-HIGH').\n",
    "\n",
    "# [STANDARD FUNCTION] Use standard inbuilt DB functions for common String, Time, and Numeric data manipulation\n",
    "\n",
    "When processing data, more often than not, we will need to change values in columns; shown below are a few standard functions to be aware of:\n",
    "\n",
    "1. **String functions**\n",
    "   1. **LENGTH** is used to calculate the length of a string. E.g., `SELECT LENGTH('hi');` will output 2.\n",
    "   2. **CONCAT** combines multiple string columns into one. E.g., `SELECT CONCAT(o_orderstatus, '-', o_orderpriority) FROM ORDERS LIMIT 5;` will concatenate the o_orderstatus and o_orderpriority columns with a dash in between them.\n",
    "   3. **SPLIT** is used to split a value into an array based on a given delimiter. E.g., `SELECT STRING_SPLIT(o_orderpriority, '-') FROM ORDERS LIMIT 5;` will output a column with arrays formed by splitting o_orderpriority values on `-`.\n",
    "   4. **SUBSTRING** is used to get a sub-string from a value, given the start and end character indices. E.g., `SELECT o_orderpriority, SUBSTRING(o_orderpriority, 1, 5) FROM orders LIMIT 5;` will get the first five (1 - 5) characters of the o_orderpriority column.\n",
    "   5. **TRIM** is used to remove empty spaces to the left and right of the value. E.g., `SELECT TRIM(' hi ');` will output `hi` without any spaces around it. LTRIM and RTRIM are similar but only remove spaces before and after the string, respectively.\n",
    "2. **Date and Time functions**\n",
    "   1. **Adding and subtracting dates**: Is used to add and subtract periods; the format heavily depends on the DB. In DuckDB, `date_diff` accepts 3 parameters, the outputs unit (day, month, year), the datetime/date values a and b such that the output will be a - b. The `+ INTERVAL n UNIT(DAY/MONTH/YEAR)` adds the value (in specified units) to the timestamp value.\n",
    "      ```sql\n",
    "        -- Date and Time Functions\n",
    "        SELECT\n",
    "            date_diff('day', DATE '2022-10-01', DATE '2023-11-05') AS diff_in_days,\n",
    "            date_diff('month', DATE '2022-10-01', DATE '2023-11-05') AS diff_in_months,\n",
    "            date_diff('year', DATE '2022-10-01', DATE '2023-11-05') AS diff_in_years,\n",
    "            DATE '2022-10-01' + INTERVAL 400 DAY AS new_date;\n",
    "      ```\n",
    "    It will show the difference between the two dates in the specified period. We can also add/subtract an arbitrary period from a date/time column. E.g., `SELECT DATE '2022-11-05' + INTERVAL '10' DAY;` will show the output `2022-11-15` (try subtraction of dates).\n",
    "   2. **String <=> date/time conversions**: When we want to change the data type of a string to date/time, we can use the `DATE 'YYYY-MM-DD'` or `TIMESTAMP 'YYYY-MM-DD HH:mm:SS'` functions. But when the data is in a non-standard date/time format such as `MM/DD/YYYY`, we will need to specify the input structure; we do this using `strptime`, E.g., `SELECT strptime('11-05-2023', '%m-%d-%Y');`.  \n",
    "   \n",
    "   We can convert a timestamp/date into a string with the required format using `strftime`. E.g., `SELECT strftime(o_orderdate, '%Y-%m-01') AS first_month_date FROM orders LIMIT 5;` will map every o_orderdate to the first of their month.\n",
    "\n",
    "   See [this page](https://duckdb.org/docs/sql/functions/date) on how to set the proper date time format.\n",
    "   3. **Time frame functions (YEAR/MONTH/DAY)**:  When we want to extract specific periods from a date/time column, we can use these functions. E.g., `SELECT year(DATE '2023-11-05');` will return 2023. Similarly, we have month, day, hour, min, etc.\n",
    "3. **Numeric**\n",
    "   1. **ROUND** is used to specify the number of digits allowed after the decimal point. E.g. `SELECT ROUND(100.102345, 2);`\n",
    "   2. **ABS** is used to get the absolute value of a given number. E.g. `SELECT ABS(-100), ABS(100);` \n",
    "   3. **Mathematical operations** these are +,-,*,/.\n",
    "   4. **Ceil/Floor** is used to get the next higher and most recent lower integers, given a decimal digit. E.g. `SELECT CEIL(100.1), FLOOR(100.1);`"
   ]
  },
  {
   "cell_type": "code",
   "execution_count": null,
   "id": "d9bb4ff1-4769-42de-b7ac-0cf3273bf308",
   "metadata": {},
   "outputs": [],
   "source": []
  },
  {
   "cell_type": "code",
   "execution_count": null,
   "id": "689334a1-f6d4-454d-830a-f2b0d9314cb9",
   "metadata": {},
   "outputs": [],
   "source": []
  }
 ],
 "metadata": {
  "kernelspec": {
   "display_name": "Python 3 (ipykernel)",
   "language": "python",
   "name": "python3"
  },
  "language_info": {
   "codemirror_mode": {
    "name": "ipython",
    "version": 3
   },
   "file_extension": ".py",
   "mimetype": "text/x-python",
   "name": "python",
   "nbconvert_exporter": "python",
   "pygments_lexer": "ipython3",
   "version": "3.12.4"
  }
 },
 "nbformat": 4,
 "nbformat_minor": 5
}
